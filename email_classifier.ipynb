{
 "cells": [
  {
   "cell_type": "markdown",
   "metadata": {},
   "source": [
    "#  Spam Email Classifier"
   ]
  },
  {
   "cell_type": "markdown",
   "metadata": {},
   "source": [
    "This classifier is capable to classify emails in spam or non-spam as per its training data."
   ]
  },
  {
   "cell_type": "markdown",
   "metadata": {},
   "source": [
    "#### Import classifier algorithm"
   ]
  },
  {
   "cell_type": "code",
   "execution_count": 7,
   "metadata": {},
   "outputs": [],
   "source": [
    "from email_classifier import *"
   ]
  },
  {
   "cell_type": "markdown",
   "metadata": {},
   "source": [
    "#### Non-Spam email example"
   ]
  },
  {
   "cell_type": "code",
   "execution_count": 8,
   "metadata": {},
   "outputs": [],
   "source": [
    "non_spam_message = \"\"\"\n",
    "\n",
    "Letter Reference No. AA1234 and Date 12 May, 2019\n",
    "\n",
    "To: Ms. Jane Doe\n",
    "\n",
    "Senior Accounts Manager\n",
    "\n",
    "Dear Ms. Jane Doe:\n",
    "\n",
    "It gratifies me to inform you that the management has decided to promote you to the position of Assistant Director of Marketing and Communications Division, effective January 1, 20XX, with an annual salary of $50,000. You will be under the supervision of John Smith, Director of Marketing and Communications Division.\n",
    "\n",
    "Monitoring and evaluation of your performance for the past two years as Senior Accounts Manager revealed a level of persistence, dedication and impressive work ethics that greatly contributed to the company’s objectives. Thus, we thought your efforts should be rewarded. It was a unanimous decision to entrust you with higher responsibilities based on your effectiveness and efficiency in the performance of your work.\n",
    "\n",
    "We shall continue to expect consistency and great results from you in your new role. We hope that you will set an example for the other employees of the organization.\n",
    "\n",
    "We wish you luck for your future performance, and congratulations!\n",
    "\n",
    "Yours faithfully,\n",
    "\n",
    "Thi Rex\n",
    "\n",
    "Managing Director\n",
    "\n",
    "ABC Ltd.\n",
    "\"\"\""
   ]
  },
  {
   "cell_type": "markdown",
   "metadata": {},
   "source": [
    "#### Spam email example "
   ]
  },
  {
   "cell_type": "code",
   "execution_count": 9,
   "metadata": {},
   "outputs": [],
   "source": [
    "# Source: http://web.mit.edu/network/spam/examples/\n",
    "\n",
    "spam_message = \"\"\"\n",
    " LASER PRINTER TONER Allright already, enough! Today it comes from UUnet, tomorrow it comes from Level3, the next day it'll come from alltel.net . This one keeps coming back like a bad penny. Don't waste your time calling any phone numbers here as it won't do you any good; You'll just get aggravated. For the record: the MIT postmasters have left a message at 1/16/2000 2129 EST on the listed complaint number (1-888-494-8597) requesting that all MIT.EDU addresses be removed from their distribution. We'll see... Well, we just got spammed again by these idiots. Onced again notified them to remove all MIT.EDU addresses at 2/27/2000 at 23:10 EST. Since you're wasting time reading this page, perhaps you'd like to hear the erudite individual who's voice instructs you on how to supposedly get your email address removed from their infernal spamming list. Here's the 700K .au file we transcribed on a recent call.\n",
    "Jun 1999: www.adultlogin.com Annoying html for cheesy porn site.\n",
    "\"\"\""
   ]
  },
  {
   "cell_type": "markdown",
   "metadata": {},
   "source": [
    "### Fucntion to check an email "
   ]
  },
  {
   "cell_type": "code",
   "execution_count": 10,
   "metadata": {},
   "outputs": [],
   "source": [
    "\n",
    "def check_email(email, train_size, test_size):\n",
    "    \"\"\"\n",
    "    predictions that an email is spam or non-spam.\n",
    "    :param email: the email text. (string)\n",
    "    :param train_size: float(0.0 to 1.0)\n",
    "    :param test_size: float(0.0 to 1.0)\n",
    "    :return: result(a string )\n",
    "    \"\"\"\n",
    "    is_spam = SpamEmail()\n",
    "\n",
    "    is_spam.split_data(train_size, test_size)\n",
    "    is_spam.train_model()\n",
    "    print(\"Prediction: \", is_spam.prediction())\n",
    "\n",
    "    return is_spam.isEmailSpam(email)"
   ]
  },
  {
   "cell_type": "markdown",
   "metadata": {},
   "source": [
    "#### First, non-spam email "
   ]
  },
  {
   "cell_type": "markdown",
   "metadata": {},
   "source": [
    "Here pridictions in nearly similar i.e. 100.0 & 99.239, so no need to train the model again on diffrent C value."
   ]
  },
  {
   "cell_type": "code",
   "execution_count": 11,
   "metadata": {},
   "outputs": [
    {
     "name": "stderr",
     "output_type": "stream",
     "text": [
      "c:\\users\\pc\\appdata\\local\\programs\\python\\python37-32\\lib\\site-packages\\sklearn\\utils\\validation.py:724: DataConversionWarning: A column-vector y was passed when a 1d array was expected. Please change the shape of y to (n_samples, ), for example using ravel().\n",
      "  y = column_or_1d(y, warn=True)\n"
     ]
    },
    {
     "name": "stdout",
     "output_type": "stream",
     "text": [
      "Prediction:  (100.0, 99.23922231614539)\n"
     ]
    },
    {
     "data": {
      "text/plain": [
       "'Your email is not a spam...'"
      ]
     },
     "execution_count": 11,
     "metadata": {},
     "output_type": "execute_result"
    }
   ],
   "source": [
    "check_email(non_spam_message, 0.2, 0.1)"
   ]
  },
  {
   "cell_type": "markdown",
   "metadata": {},
   "source": [
    "#### Second, Spam email "
   ]
  },
  {
   "cell_type": "markdown",
   "metadata": {},
   "source": [
    "Here pridictions in nearly similar i.e. 100.0 & 99.154, so no need to train the model again on diffrent C value."
   ]
  },
  {
   "cell_type": "code",
   "execution_count": 12,
   "metadata": {},
   "outputs": [
    {
     "name": "stderr",
     "output_type": "stream",
     "text": [
      "c:\\users\\pc\\appdata\\local\\programs\\python\\python37-32\\lib\\site-packages\\sklearn\\utils\\validation.py:724: DataConversionWarning: A column-vector y was passed when a 1d array was expected. Please change the shape of y to (n_samples, ), for example using ravel().\n",
      "  y = column_or_1d(y, warn=True)\n"
     ]
    },
    {
     "name": "stdout",
     "output_type": "stream",
     "text": [
      "Prediction:  (100.0, 99.15469146238377)\n"
     ]
    },
    {
     "data": {
      "text/plain": [
       "'Your email is spam...'"
      ]
     },
     "execution_count": 12,
     "metadata": {},
     "output_type": "execute_result"
    }
   ],
   "source": [
    "check_email(spam_message, 0.2, 0.1)"
   ]
  }
 ],
 "metadata": {
  "kernelspec": {
   "display_name": "Python 3",
   "language": "python",
   "name": "python3"
  },
  "language_info": {
   "codemirror_mode": {
    "name": "ipython",
    "version": 3
   },
   "file_extension": ".py",
   "mimetype": "text/x-python",
   "name": "python",
   "nbconvert_exporter": "python",
   "pygments_lexer": "ipython3",
   "version": "3.7.4"
  }
 },
 "nbformat": 4,
 "nbformat_minor": 2
}
